{
 "cells": [
  {
   "cell_type": "markdown",
   "metadata": {
    "slideshow": {
     "slide_type": "slide"
    }
   },
   "source": [
    "<div align=\"center\">\n",
    "    <img src='Image/LOGOUIS.png'/>\n",
    "    <h1><strong>Exposición Matemáticas</strong></h1>\n",
    "    <h2>Óscar Alfonso Gómez Sepúlveda</h2>\n",
    "    <h3>2198577</h3>\n",
    "</div>\n",
    "\n",
    "<div align=\"justify\">\n",
    "    Exposición de <strong>Teorema de Gauss de la divergencia, Invariancia de la divergencia y Teorema de Stokes.</strong> \n",
    "</div>"
   ]
  },
  {
   "cell_type": "code",
   "execution_count": null,
   "metadata": {
    "slideshow": {
     "slide_type": "subslide"
    }
   },
   "outputs": [],
   "source": [
    "from sympy import init_session\n",
    "init_session(use_latex=True)"
   ]
  },
  {
   "cell_type": "code",
   "execution_count": null,
   "metadata": {
    "slideshow": {
     "slide_type": "slide"
    }
   },
   "outputs": [],
   "source": [
    "I, x, y, z, F_1, F_2, F_3, divF, r, theta, b, a, divF2, phi = symbols('I, x, y, z, F_1, F_2, F_3, divF, r, theta, b, a, divF2, phi')\n",
    "\n"
   ]
  },
  {
   "cell_type": "markdown",
   "metadata": {},
   "source": [
    "<div align=\"justify\">\n",
    "    <strong>Teorema de Gauss de la Divergencia:</strong> Sea T una región cerrada y acotada en el espacio cuya frontera es una Superficie S suave por secciones y orientable. Sea <strong>F</strong>(x,y,z) una función vectorial que es continua y tiene primeras derivadas parciales continuas en algún dominio que contiene a T. Donde <strong>n</strong> es el vector unitario normal exterior a S.\n",
    "    \n",
    "</div>"
   ]
  },
  {
   "cell_type": "markdown",
   "metadata": {},
   "source": [
    "<div align=\"justify\">\n",
    "    <strong>Aplicación de Teorema de Gauss de la Divergencia:</strong> La aplicación del teorema es la transformación de integrales de volumen o de integrales triples en integrales de superficie\n",
    "    \n",
    "</div>"
   ]
  },
  {
   "cell_type": "markdown",
   "metadata": {},
   "source": [
    "<div align=\"center\">\n",
    "    <img src='Image/Ejemplo1.png'/>\n",
    "</div>"
   ]
  },
  {
   "cell_type": "markdown",
   "metadata": {},
   "source": [
    "<div align=\"justify\">\n",
    "    Cada F tiene su correspondiente término.\n",
    "    $$\n",
    "    \\begin{equation}\n",
    "        F_1 = x^3,  F_2 = x^2 y,  F_3 = x^2 z    \n",
    "    \\end{equation}\n",
    "    $$\n",
    "    Aplicando:\n",
    "    $$\n",
    "    \\begin{equation}\n",
    "        div \\mathbf{F} = \\frac {d F_1}{dx} + \\frac{F_2}{dy} +  \\frac{F_3}{dz}\n",
    "    \\end{equation}\n",
    "    $$\n",
    "</div>"
   ]
  },
  {
   "cell_type": "markdown",
   "metadata": {},
   "source": [
    "<div align=\"justify\">\n",
    "    Por tanto aplicando la definición de divergencia de F.\n",
    "    $$\n",
    "    \\begin{equation}\n",
    "        div \\mathbf{F} = 3 x^2 + x^2 + x^2 = 5 x^2    \n",
    "    \\end{equation}\n",
    "    $$\n",
    "</div>"
   ]
  },
  {
   "cell_type": "code",
   "execution_count": null,
   "metadata": {},
   "outputs": [],
   "source": [
    "F_1 = x**3\n",
    "F_2 = x**2*y\n",
    "F_3 = x**2*z\n",
    "divF = F_1.diff(x)+F_2.diff(y)+F_3.diff(z)\n",
    "divF"
   ]
  },
  {
   "cell_type": "markdown",
   "metadata": {},
   "source": [
    "<div align=\"justify\">\n",
    "    Introduciendo las coordenadas polares donde $x = r cos(\\theta)$ y $y = r sin(\\theta)$. El jacobiano queda $dx dy dz = r dr d \\theta dz$\n",
    "    $$\n",
    "    \\begin{equation}\n",
    "         I = \\int _0 ^b \\int _0 ^a \\int _0 ^{2\\pi} 5 r^3 cos^2(\\theta) dr d\\theta dz\n",
    "    \\end{equation}\n",
    "    $$\n",
    "</div>"
   ]
  },
  {
   "cell_type": "code",
   "execution_count": null,
   "metadata": {},
   "outputs": [],
   "source": [
    "from IPython.display import Markdown, HTML, display\n",
    "divF = 5*x**2\n",
    "divF = divF.subs(x, r*cos(theta))\n",
    "divF = divF*r\n",
    "display(Markdown(\"El valor de $I$ es:\"))\n",
    "display(divF)"
   ]
  },
  {
   "cell_type": "markdown",
   "metadata": {},
   "source": [
    "<div align=\"justify\">\n",
    "    Realizando la integración para $z$\n",
    "    $$\n",
    "    \\begin{equation}\n",
    "         I = \\int _0 ^b \\int _0 ^a \\int _0 ^{2\\pi} 5 r^3 cos^2(\\theta) dr d\\theta dz = 5 b\\int _0 ^a \\int _0 ^{2\\pi} r^3 cos^2(\\theta) dr d\\theta\n",
    "    \\end{equation}\n",
    "    $$\n",
    "</div>"
   ]
  },
  {
   "cell_type": "code",
   "execution_count": null,
   "metadata": {},
   "outputs": [],
   "source": [
    "I = integrate(divF, (z,0,b))\n",
    "I"
   ]
  },
  {
   "cell_type": "markdown",
   "metadata": {},
   "source": [
    "<div align=\"justify\">\n",
    "    Realizando la integración para $r$\n",
    "    $$\n",
    "    \\begin{equation}\n",
    "         I = \\int _0 ^b \\int _0 ^a \\int _0 ^{2\\pi} 5 r^3 cos^2(\\theta) dr d\\theta dz \\\\\n",
    "         I = 5 b\\int _0 ^a \\int _0 ^{2\\pi} r^3 cos^2(\\theta) dr d\\theta \\\\\n",
    "         I = 5 b \\frac{a^4}{4} \\int _0 ^a \\int _0 ^{2\\pi} cos^2(\\theta) d\\theta\n",
    "    \\end{equation}\n",
    "    $$\n",
    "</div>"
   ]
  },
  {
   "cell_type": "code",
   "execution_count": null,
   "metadata": {},
   "outputs": [],
   "source": [
    "I = integrate(I, (r,0,a))\n",
    "I"
   ]
  },
  {
   "cell_type": "markdown",
   "metadata": {},
   "source": [
    "<div align=\"justify\">\n",
    "    Realizando la integración para $\\theta$\n",
    "    $$\n",
    "    \\begin{equation}\n",
    "         I = \\int _0 ^b \\int _0 ^a \\int _0 ^{2\\pi} 5 r^3 cos^2(\\theta) dr d\\theta dz \\\\\n",
    "         I = 5 b\\int _0 ^a \\int _0 ^{2\\pi} r^3 cos^2(\\theta) dr d\\theta \\\\\n",
    "         I = 5 b \\frac{a^4}{4} \\int _0 ^a \\int _0 ^{2\\pi} cos^2(\\theta) d\\theta \\\\\n",
    "         I = \\frac{5}{4} \\pi b a^4 \n",
    "    \\end{equation}\n",
    "    $$\n",
    "</div>"
   ]
  },
  {
   "cell_type": "code",
   "execution_count": null,
   "metadata": {},
   "outputs": [],
   "source": [
    "I = integrate(I, (theta,0,2*pi))\n",
    "I"
   ]
  },
  {
   "cell_type": "markdown",
   "metadata": {},
   "source": [
    "<div align=\"center\">\n",
    "    <img src='Image/Ejemplo2.png'/>\n",
    "</div>"
   ]
  },
  {
   "cell_type": "markdown",
   "metadata": {},
   "source": [
    "<div align=\"justify\">\n",
    "    Para la primera parte del ejercicio se evalua utilizando el teorema de la divergencia\n",
    "    Cada F tiene su correspondiente término.\n",
    "    $$\n",
    "    \\begin{equation}\n",
    "        F_1 = 7 x,  F_3 = - z    \n",
    "    \\end{equation}\n",
    "    $$\n",
    "    Aplicando:\n",
    "    $$\n",
    "    \\begin{equation}\n",
    "        div \\mathbf{F} = \\frac {d F_1}{dx} +  \\frac{F_3}{dz}\n",
    "    \\end{equation}\n",
    "    $$\n",
    "    Dando como resultado:\n",
    "    $$\n",
    "    \\begin{equation}\n",
    "        div \\mathbf{F} = 7 - 1 = 6\n",
    "    \\end{equation}\n",
    "    $$\n",
    "    \n",
    "</div>"
   ]
  },
  {
   "cell_type": "code",
   "execution_count": null,
   "metadata": {},
   "outputs": [],
   "source": [
    "F_1 = 7*x\n",
    "F_3 = -z\n",
    "divF2 = F_1.diff(x)+F_3.diff(z)"
   ]
  },
  {
   "cell_type": "markdown",
   "metadata": {},
   "source": [
    "<div align=\"justify\">\n",
    "    Para coordenadas polares de una esfera el jacobiano queda como $r^2 sin(\\phi) dr d\\phi d\\theta$\n",
    "</div>"
   ]
  },
  {
   "cell_type": "code",
   "execution_count": null,
   "metadata": {},
   "outputs": [],
   "source": [
    "divF2 = divF2*r**2*sin(phi)\n",
    "divF2"
   ]
  },
  {
   "cell_type": "code",
   "execution_count": null,
   "metadata": {},
   "outputs": [],
   "source": [
    "I = integrate(divF2, (r,0,2))\n",
    "I"
   ]
  },
  {
   "cell_type": "code",
   "execution_count": null,
   "metadata": {},
   "outputs": [],
   "source": [
    "I = integrate(I, (phi,0,pi))\n",
    "I"
   ]
  },
  {
   "cell_type": "code",
   "execution_count": null,
   "metadata": {},
   "outputs": [],
   "source": [
    "I = integrate(I, (theta,0,2*pi))\n",
    "I"
   ]
  },
  {
   "cell_type": "markdown",
   "metadata": {},
   "source": [
    "<div align=\"justify\">\n",
    "    <i>Comprobación del teorema de la divergencia</i>\n",
    "    Usando:\n",
    "    $$\n",
    "    \\begin{equation}\n",
    "        \\mathbf{n} dA = \\mathbf{N} du dv\n",
    "    \\end{equation}\n",
    "    $$\n",
    "    Se tiene:\n",
    "    $$\n",
    "    \\begin{equation}\n",
    "        \\mathbf{r} = 2 cos(v)cos(u)\\mathbf{i} + 2 cos(v)sin(u)\\mathbf{j} + 2 sin(v)\\mathbf{k}\n",
    "    \\end{equation}\n",
    "    $$\n",
    "    Entonces:\n",
    "    $$\n",
    "    \\begin{equation}\n",
    "        \\mathbf{r_u} = -2 cos(v)sin(u)\\mathbf{i} + 2 cos(v)cos(u)\\mathbf{j} \\\\\n",
    "        \\mathbf{r_v} = -2 sin(v)cos(u)\\mathbf{i} - 2 sin(v)sin(u)\\mathbf{j} + 2 cos(v)\\mathbf{k} \\\\\n",
    "        \\mathbf{N} = \\mathbf{r_u}X\\mathbf{r_v} = 4 cos^2(v)cos(u)\\mathbf{i} + 4 cos^2(v)sin(u)\\mathbf{j} + 4 cos(v)sin(v)\\mathbf{k}\n",
    "    \\end{equation}\n",
    "    $$\n",
    "    A partir de la representación de S se observa que sobre S,\n",
    "    $$\n",
    "    \\begin{equation}\n",
    "        7x\\mathbf{i} - z\\mathbf{k} = 14 cos(v)cos(u)\\mathbf{i} + 2 sin(v)\\mathbf{k}\n",
    "    \\end{equation}\n",
    "    $$\n",
    "    Teniendo en cuenta este resultado y la expresión para N se obtiene:\n",
    "    $$\n",
    "    \\begin{equation}\n",
    "        (7x\\mathbf{i} - z\\mathbf{k})*\\mathbf{N} = (14 cos(v)cos(u))(4 cos^2(v)cos(u)) - 2 sin(v)(4 cos(v)sin(v))\n",
    "    \\end{equation}\n",
    "    $$\n",
    "    Integrando esta expresión sobre $u$ de $0$ a $2\\pi$ y sobre $v$ de $-\\pi/2$ a $\\pi/2$. Se obtiene\n",
    "    $$\n",
    "    \\begin{equation}\n",
    "        64 \\pi\n",
    "    \\end{equation}\n",
    "    $$\n",
    "</div>"
   ]
  },
  {
   "cell_type": "markdown",
   "metadata": {},
   "source": [
    "<div align=\"center\">\n",
    "    <img src='Image/Ejemplo3_1.png'/>\n",
    "</div>"
   ]
  },
  {
   "cell_type": "markdown",
   "metadata": {},
   "source": [
    "<div align=\"center\">\n",
    "    <img src='Image/Ejemplo3_2.png'/>\n",
    "</div>"
   ]
  },
  {
   "cell_type": "markdown",
   "metadata": {},
   "source": [
    "<div align=\"center\">\n",
    "    <img src='Image/Ejemplo4_1.png'/>\n",
    "</div>"
   ]
  },
  {
   "cell_type": "markdown",
   "metadata": {},
   "source": [
    "<div align=\"center\">\n",
    "    <img src='Image/Ejemplo4_2.png'/>\n",
    "</div>"
   ]
  },
  {
   "cell_type": "markdown",
   "metadata": {},
   "source": [
    "<div align=\"center\">\n",
    "    <img src='Image/Ejemplo5.png'/>\n",
    "</div>"
   ]
  },
  {
   "cell_type": "markdown",
   "metadata": {},
   "source": [
    "<div align=\"justify\">\n",
    "    Siendo la temperatura $T$ una región del cuerpo y $S$ la frontera. Por tanto, la cantidad de calor que sale de T por unidad de tiempo es:\n",
    "    $$\n",
    "    \\begin{equation}\n",
    "        \\int \\int \\mathbf{v*n} dA\n",
    "    \\end{equation}\n",
    "    $$\n",
    "    donde $\\mathbf{v*n}$ es la componente de $v$ en la dirección del vector uniyatio normal exterior $n$ de S\n",
    "</div>"
   ]
  },
  {
   "cell_type": "markdown",
   "metadata": {},
   "source": [
    "<div align=\"center\">\n",
    "    <img src='Image/Ejemplo5_1.png'/>\n",
    "</div>"
   ]
  },
  {
   "cell_type": "markdown",
   "metadata": {},
   "source": [
    "<div align=\"center\">\n",
    "    <img src='Image/Ejemplo5_2.png'/>\n",
    "</div>"
   ]
  },
  {
   "cell_type": "markdown",
   "metadata": {},
   "source": [
    "<div align=\"justify\">\n",
    "    <strong> Teorema de Stokes </strong>\n",
    "    Transformación de integrales de línea en integrales de superficie y viceversa\n",
    "</div>"
   ]
  },
  {
   "cell_type": "markdown",
   "metadata": {},
   "source": [
    "<div align=\"justify\">\n",
    "    Sea S una superficie orientada y suave por secciones en el espacio y sea la frontera de S una curva cerrada simple y suave por secciones C. Sea <strong>F</strong>(x,y,z) una función vectorial que es continua y tiene primeras derivadas parciales continuas en un dominio del espacio que contiene S. Donde <strong>n</strong> es el vector unitario normal a S.\n",
    "    \n",
    "</div>"
   ]
  },
  {
   "cell_type": "markdown",
   "metadata": {},
   "source": [
    "<div align=\"center\">\n",
    "    <img src='Image/Ejemplo6_1.png'/>\n",
    "</div>"
   ]
  },
  {
   "cell_type": "markdown",
   "metadata": {},
   "source": [
    "<div align=\"center\">\n",
    "    <img src='Image/Ejemplo6_6.png'/>\n",
    "</div>"
   ]
  },
  {
   "cell_type": "markdown",
   "metadata": {},
   "source": [
    "<div align=\"center\">\n",
    "    <img src='Image/Ejemplo6_7.png'/>\n",
    "</div>"
   ]
  },
  {
   "cell_type": "markdown",
   "metadata": {},
   "source": [
    "<div align=\"center\">\n",
    "    <img src='Image/Ejemplo6_2.png'/>\n",
    "</div>"
   ]
  },
  {
   "cell_type": "markdown",
   "metadata": {},
   "source": [
    "<div align=\"center\">\n",
    "    <img src='Image/Ejemplo6_3.png'/>\n",
    "</div>"
   ]
  },
  {
   "cell_type": "markdown",
   "metadata": {},
   "source": [
    "<div align=\"center\">\n",
    "    <img src='Image/Ejemplo6_4.png'/>\n",
    "</div>"
   ]
  },
  {
   "cell_type": "markdown",
   "metadata": {},
   "source": [
    "<div align=\"center\">\n",
    "    <img src='Image/Ejemplo6_5.png'/>\n",
    "</div>"
   ]
  }
 ],
 "metadata": {
  "kernelspec": {
   "display_name": "Python 3",
   "language": "python",
   "name": "python3"
  },
  "language_info": {
   "codemirror_mode": {
    "name": "ipython",
    "version": 3
   },
   "file_extension": ".py",
   "mimetype": "text/x-python",
   "name": "python",
   "nbconvert_exporter": "python",
   "pygments_lexer": "ipython3",
   "version": "3.7.4"
  }
 },
 "nbformat": 4,
 "nbformat_minor": 4
}
